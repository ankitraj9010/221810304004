{
 "cells": [
  {
   "cell_type": "markdown",
   "metadata": {},
   "source": [
    "## Binary Search"
   ]
  },
  {
   "cell_type": "code",
   "execution_count": 32,
   "metadata": {},
   "outputs": [
    {
     "name": "stdout",
     "output_type": "stream",
     "text": [
      "Item is found\n"
     ]
    }
   ],
   "source": [
    "def binary(a,lindex,rindex,taritem):\n",
    "    while lindex <= rindex:\n",
    "        mindex=lindex+(rindex-lindex//2);\n",
    "        if a[mindex]== taritem:\n",
    "            return mindex\n",
    "        if a[mindex]>taritem:\n",
    "            rindex=mindex-1\n",
    "        else:\n",
    "            lindex=mindex+1\n",
    "    return -1\n",
    "l1=[1,4,9,15,25,45,57,88,98]\n",
    "res= binary(l1,0,8,98)\n",
    "if res!=-1:\n",
    "    print(\"Item is found\")\n",
    "else:\n",
    "    print(\"Item is not found\")"
   ]
  },
  {
   "cell_type": "markdown",
   "metadata": {},
   "source": [
    "# Sorting Techniques"
   ]
  },
  {
   "cell_type": "markdown",
   "metadata": {},
   "source": [
    "### Bubble Sort"
   ]
  },
  {
   "cell_type": "code",
   "execution_count": 33,
   "metadata": {},
   "outputs": [
    {
     "name": "stdout",
     "output_type": "stream",
     "text": [
      "1 3 6 18 19 25 "
     ]
    }
   ],
   "source": [
    "def bubblesort(a):\n",
    "    for i in range(len(a)-1):\n",
    "        for j in range(len(a)-1):\n",
    "            if a[j]>a[j+1]:\n",
    "                a[j],a[j+1]=a[j+1],a[j]\n",
    "        \n",
    "    for i in range(len(a)):\n",
    "        print(a[i],end=\" \")\n",
    "        \n",
    "l1=[19,1,25,6,18,3]\n",
    "bubblesort(l1)"
   ]
  },
  {
   "cell_type": "code",
   "execution_count": 34,
   "metadata": {
    "scrolled": true
   },
   "outputs": [
    {
     "name": "stdout",
     "output_type": "stream",
     "text": [
      "[1, 3, 6, 18, 19, 25]\n"
     ]
    }
   ],
   "source": [
    "l1=[19,1,25,6,18,3]\n",
    "l1.sort()                   ## short cut to bubble sort\n",
    "print(l1)"
   ]
  },
  {
   "cell_type": "markdown",
   "metadata": {},
   "source": [
    "## Strings in Python"
   ]
  },
  {
   "cell_type": "markdown",
   "metadata": {},
   "source": [
    "### Creating a string"
   ]
  },
  {
   "cell_type": "code",
   "execution_count": 35,
   "metadata": {},
   "outputs": [
    {
     "name": "stdout",
     "output_type": "stream",
     "text": [
      "Application\n",
      "Application\n",
      "Application Test\n",
      "        working\n",
      "        Completed\n",
      "        List\n",
      "        Strings\n",
      "        Python\n"
     ]
    }
   ],
   "source": [
    "str=\"Application\"\n",
    "print(str)\n",
    "\n",
    "str1='Application'\n",
    "print(str1)\n",
    "\n",
    "str2=\"\"\"Application Test\n",
    "        working\n",
    "        Completed\n",
    "        List\n",
    "        Strings\n",
    "        Python\"\"\"\n",
    "print(str2)"
   ]
  },
  {
   "cell_type": "code",
   "execution_count": 36,
   "metadata": {},
   "outputs": [
    {
     "name": "stdout",
     "output_type": "stream",
     "text": [
      "Harshit\n",
      "str[0]= H\n",
      "str[1]= a\n",
      "str[-1]= t\n",
      "str[-3]= h\n",
      "str[1:5]= arsh\n",
      "str[:5]= Harsh\n",
      "str[5:-2]= \n",
      "str[::-1]= tihsraH\n"
     ]
    }
   ],
   "source": [
    "str=\"Harshit\"\n",
    "print(str)\n",
    "print(\"str[0]=\",str[0])\n",
    "print(\"str[1]=\",str[1])\n",
    "print(\"str[-1]=\",str[-1])\n",
    "print(\"str[-3]=\",str[-3])\n",
    "print(\"str[1:5]=\",str[1:5])\n",
    "print(\"str[:5]=\",str[:5])\n",
    "print(\"str[5:-2]=\",str[5:-2])\n",
    "print(\"str[::-1]=\",str[::-1])  # Used for reverse string"
   ]
  },
  {
   "cell_type": "code",
   "execution_count": 37,
   "metadata": {},
   "outputs": [
    {
     "name": "stdout",
     "output_type": "stream",
     "text": [
      "0\n",
      "1\n"
     ]
    }
   ],
   "source": [
    "def pallindrome(s):\n",
    "    if s==s[::-1]:\n",
    "        return 1\n",
    "    else:\n",
    "        return 0\n",
    "    \n",
    "print(pallindrome(\"python\"))\n",
    "print(pallindrome(\"jalaj\"))\n",
    "    "
   ]
  },
  {
   "cell_type": "code",
   "execution_count": 70,
   "metadata": {},
   "outputs": [
    {
     "name": "stdout",
     "output_type": "stream",
     "text": [
      "Enter a no->56465\n",
      "5\n"
     ]
    }
   ],
   "source": [
    "n=int(input(\"Enter a no->\"))\n",
    "c=0\n",
    "while(n!=0):\n",
    "    c=c+1\n",
    "    n=n//10\n",
    "    \n",
    "print(c)"
   ]
  },
  {
   "cell_type": "code",
   "execution_count": 39,
   "metadata": {
    "scrolled": true
   },
   "outputs": [
    {
     "data": {
      "text/plain": [
       "7"
      ]
     },
     "execution_count": 39,
     "metadata": {},
     "output_type": "execute_result"
    }
   ],
   "source": [
    "def countofchar(a):\n",
    "    return len(str)\n",
    "countofchar(\"Application\")"
   ]
  },
  {
   "cell_type": "code",
   "execution_count": 40,
   "metadata": {},
   "outputs": [
    {
     "name": "stdout",
     "output_type": "stream",
     "text": [
      "6\n",
      "3\n"
     ]
    }
   ],
   "source": [
    "def countuppercase(str):\n",
    "    c=0\n",
    "    l1=list(str)\n",
    "    for x in range(len(l1)):\n",
    "        if ord(l1[x]) >= 65 and ord(l1[x]) <= 90:\n",
    "            c=c+1\n",
    "    return c\n",
    "\n",
    "print(countuppercase(\"APplIcAtIOn\"))\n",
    "print(countuppercase(\"FOrM\"))"
   ]
  },
  {
   "cell_type": "markdown",
   "metadata": {},
   "source": [
    "#### Print of digits in a string"
   ]
  },
  {
   "cell_type": "code",
   "execution_count": 47,
   "metadata": {},
   "outputs": [
    {
     "name": "stdout",
     "output_type": "stream",
     "text": [
      "1  8  8  9  None\n"
     ]
    }
   ],
   "source": [
    "def printdigits(str):\n",
    "    l1=list(str)\n",
    "    for x in range(len(l1)):\n",
    "        if (ord(l1[x])>=48 and ord(l1[x])<=57):\n",
    "             print(l1[x],end=\"  \")\n",
    "    \n",
    "\n",
    "print(printdigits(\"Application1889\"))"
   ]
  },
  {
   "cell_type": "code",
   "execution_count": 60,
   "metadata": {},
   "outputs": [
    {
     "name": "stdout",
     "output_type": "stream",
     "text": [
      "26\n"
     ]
    }
   ],
   "source": [
    "def printsumdigits(str):\n",
    "    l1=list(str)\n",
    "    sum=0\n",
    "    for x in range(len(l1)):\n",
    "        if (ord(l1[x])>=48 and ord(l1[x])<=57):\n",
    "             sum=sum+ord(l1[x])-48\n",
    "    return sum\n",
    "\n",
    "print(printsumdigits(\"Application1889\"))"
   ]
  },
  {
   "cell_type": "code",
   "execution_count": 69,
   "metadata": {},
   "outputs": [
    {
     "name": "stdout",
     "output_type": "stream",
     "text": [
      "16\n",
      "18\n"
     ]
    }
   ],
   "source": [
    "def printevensumdigits(str):\n",
    "    l1=list(str)\n",
    "    sum=0\n",
    "    for x in range(len(l1)):\n",
    "        if (ord(l1[x])>=48 and ord(l1[x])<=57):\n",
    "             if((ord(l1[x])-48)%2==0):\n",
    "                    sum=sum+ord(l1[x])-48\n",
    "    return sum\n",
    "\n",
    "print(printevensumdigits(\"Application1889\"))\n",
    "print(printevensumdigits(\"Prodigy696969\"))"
   ]
  },
  {
   "cell_type": "code",
   "execution_count": 75,
   "metadata": {},
   "outputs": [
    {
     "name": "stdout",
     "output_type": "stream",
     "text": [
      "10\n",
      "27\n"
     ]
    }
   ],
   "source": [
    "def printoddsumdigits(str):\n",
    "    l1=list(str)\n",
    "    sum=0\n",
    "    for x in range(len(l1)):\n",
    "        if (ord(l1[x])>=48 and ord(l1[x])<=57):\n",
    "             if((ord(l1[x])-48)%2!=0):\n",
    "                    sum=sum+ord(l1[x])-48\n",
    "    return sum\n",
    "\n",
    "print(printoddsumdigits(\"Application1889\"))\n",
    "print(printoddsumdigits(\"Prodigy696969\"))"
   ]
  },
  {
   "cell_type": "markdown",
   "metadata": {},
   "source": [
    "### String character conversion"
   ]
  },
  {
   "cell_type": "code",
   "execution_count": null,
   "metadata": {
    "collapsed": true
   },
   "outputs": [],
   "source": []
  }
 ],
 "metadata": {
  "kernelspec": {
   "display_name": "Python 3",
   "language": "python",
   "name": "python3"
  },
  "language_info": {
   "codemirror_mode": {
    "name": "ipython",
    "version": 3
   },
   "file_extension": ".py",
   "mimetype": "text/x-python",
   "name": "python",
   "nbconvert_exporter": "python",
   "pygments_lexer": "ipython3",
   "version": "3.6.3"
  }
 },
 "nbformat": 4,
 "nbformat_minor": 2
}
