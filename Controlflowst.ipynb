{
 "cells": [
  {
   "cell_type": "markdown",
   "metadata": {},
   "source": [
    "## Control flow statements\n"
   ]
  },
  {
   "cell_type": "markdown",
   "metadata": {},
   "source": [
    "### if(condition)\n"
   ]
  },
  {
   "cell_type": "code",
   "execution_count": 7,
   "metadata": {},
   "outputs": [
    {
     "name": "stdout",
     "output_type": "stream",
     "text": [
      "no is less than 15\n"
     ]
    }
   ],
   "source": [
    "x=10;\n",
    "if(x<15):\n",
    "    print(\"no is less than 15\");"
   ]
  },
  {
   "cell_type": "markdown",
   "metadata": {},
   "source": [
    "## if else"
   ]
  },
  {
   "cell_type": "code",
   "execution_count": 9,
   "metadata": {},
   "outputs": [
    {
     "name": "stdout",
     "output_type": "stream",
     "text": [
      "hello good afternoon\n"
     ]
    }
   ],
   "source": [
    "x=10;\n",
    "if(x>15):\n",
    "    print(\"Hello good morning\")\n",
    "else:\n",
    "    print(\"hello good afternoon\")"
   ]
  },
  {
   "cell_type": "markdown",
   "metadata": {},
   "source": [
    "### x and y is the input and we have find the large no. b/w 2 nos\n"
   ]
  },
  {
   "cell_type": "markdown",
   "metadata": {},
   "source": [
    "x=10;\n",
    "y=20;\n",
    "if(x>y):\n",
    "    print(\"x is greater\");\n",
    "else:\n",
    "    print(\"y is greater\");\n",
    "        \n"
   ]
  },
  {
   "cell_type": "markdown",
   "metadata": {},
   "source": [
    "### if both no same- square  / not same no- multi of both nos"
   ]
  },
  {
   "cell_type": "code",
   "execution_count": 20,
   "metadata": {},
   "outputs": [
    {
     "name": "stdout",
     "output_type": "stream",
     "text": [
      "2210\n"
     ]
    }
   ],
   "source": [
    "x=34\n",
    "y=65\n",
    "if(x==y):\n",
    "    print(x*x);\n",
    "else:\n",
    "    print(x*y);"
   ]
  },
  {
   "cell_type": "markdown",
   "metadata": {},
   "source": [
    "### 1 no i/p- check for zero,+ve,-ve"
   ]
  },
  {
   "cell_type": "code",
   "execution_count": 24,
   "metadata": {},
   "outputs": [
    {
     "name": "stdout",
     "output_type": "stream",
     "text": [
      "It's a -ve no\n"
     ]
    }
   ],
   "source": [
    "x=-27\n",
    "if(x>0):\n",
    "    print(\"It's a +ve no\");\n",
    "elif(x==0):\n",
    "    print(\"zero\");\n",
    "else:\n",
    "    print(\"It's a -ve no\");"
   ]
  },
  {
   "cell_type": "markdown",
   "metadata": {},
   "source": [
    "## Loop statmts-- while\n"
   ]
  },
  {
   "cell_type": "code",
   "execution_count": 25,
   "metadata": {},
   "outputs": [
    {
     "name": "stdout",
     "output_type": "stream",
     "text": [
      "1\n",
      "2\n",
      "3\n",
      "4\n",
      "5\n",
      "6\n",
      "7\n",
      "8\n",
      "9\n",
      "10\n"
     ]
    }
   ],
   "source": [
    "n=1;\n",
    "while(n<=10):\n",
    "    print(n);\n",
    "    n=n+1;"
   ]
  },
  {
   "cell_type": "markdown",
   "metadata": {},
   "source": [
    "## 10 to 1"
   ]
  },
  {
   "cell_type": "code",
   "execution_count": 26,
   "metadata": {},
   "outputs": [
    {
     "name": "stdout",
     "output_type": "stream",
     "text": [
      "10\n",
      "9\n",
      "8\n",
      "7\n",
      "6\n",
      "5\n",
      "4\n",
      "3\n",
      "2\n",
      "1\n"
     ]
    }
   ],
   "source": [
    "n=10;\n",
    "while(n>=1):\n",
    "    print(n);\n",
    "    n=n-1;"
   ]
  },
  {
   "cell_type": "markdown",
   "metadata": {},
   "source": [
    "## -22 to -45"
   ]
  },
  {
   "cell_type": "code",
   "execution_count": 29,
   "metadata": {},
   "outputs": [
    {
     "name": "stdout",
     "output_type": "stream",
     "text": [
      "-22\n",
      "-23\n",
      "-24\n",
      "-25\n",
      "-26\n",
      "-27\n",
      "-28\n",
      "-29\n",
      "-30\n",
      "-31\n",
      "-32\n",
      "-33\n",
      "-34\n",
      "-35\n",
      "-36\n",
      "-37\n",
      "-38\n",
      "-39\n",
      "-40\n",
      "-41\n",
      "-42\n",
      "-43\n",
      "-44\n",
      "-45\n"
     ]
    }
   ],
   "source": [
    "n=-22\n",
    "while(n>=-45):\n",
    "    print(n);\n",
    "    n=n-1;"
   ]
  },
  {
   "cell_type": "markdown",
   "metadata": {},
   "source": [
    "### sum of even  nos b/w 1 to 100"
   ]
  },
  {
   "cell_type": "code",
   "execution_count": 30,
   "metadata": {},
   "outputs": [
    {
     "name": "stdout",
     "output_type": "stream",
     "text": [
      "Enter lower limit1\n",
      "Enter upper limit100\n",
      "2450\n"
     ]
    }
   ],
   "source": [
    "x=int(input(\"Enter lower limit\"));\n",
    "y=int(input(\"Enter upper limit\"));\n",
    "sum=0;\n",
    "while(x!=y):\n",
    "    if(x%2==0):\n",
    "        sum=sum+x;\n",
    "    x=x+1;\n",
    "print(sum);\n",
    "        \n",
    "        "
   ]
  },
  {
   "cell_type": "markdown",
   "metadata": {},
   "source": [
    "### rev no"
   ]
  },
  {
   "cell_type": "code",
   "execution_count": 32,
   "metadata": {},
   "outputs": [
    {
     "name": "stdout",
     "output_type": "stream",
     "text": [
      "Enter a no -> 9821\n",
      "1\n",
      "2\n",
      "8\n",
      "9\n"
     ]
    }
   ],
   "source": [
    "x=int(input(\"Enter a no -> \"));\n",
    "\n",
    "while(x!=0):\n",
    "    r=x%10;\n",
    "    print(r);\n",
    "    x=x//10;\n",
    "    "
   ]
  },
  {
   "cell_type": "markdown",
   "metadata": {},
   "source": [
    "### sum of even digits in a no\n"
   ]
  },
  {
   "cell_type": "code",
   "execution_count": 40,
   "metadata": {},
   "outputs": [
    {
     "name": "stdout",
     "output_type": "stream",
     "text": [
      "Enter a no ->1468\n",
      "18\n"
     ]
    }
   ],
   "source": [
    "x=int(input(\"Enter a no ->\"));\n",
    "r=0;\n",
    "sum=0;\n",
    "while(x!=0):\n",
    "    r=x%10;\n",
    "    if(r%2==0):\n",
    "        sum=sum+r;\n",
    "    x=x//10;\n",
    "    \n",
    "print(sum)"
   ]
  },
  {
   "cell_type": "markdown",
   "metadata": {},
   "source": [
    "### name of the digit in rev\n"
   ]
  },
  {
   "cell_type": "code",
   "execution_count": 42,
   "metadata": {},
   "outputs": [
    {
     "name": "stdout",
     "output_type": "stream",
     "text": [
      "Enter the no ->123\n",
      "Three\n",
      "Two\n",
      "one\n"
     ]
    }
   ],
   "source": [
    "x=int(input(\"Enter the no ->\"));\n",
    "while(x!=0):\n",
    "    r=x%10;\n",
    "    if(r==0):\n",
    "        print(\"zero\");\n",
    "    elif(r==1):\n",
    "        print(\"one\");\n",
    "    elif(r==2):\n",
    "        print(\"Two\");\n",
    "    elif(r==3):\n",
    "        print(\"Three\");\n",
    "    elif(r==4):\n",
    "        print(\"four\");\n",
    "    elif(r==5):\n",
    "        print(\"five\");\n",
    "    elif(r==6):\n",
    "        print(\"six\");\n",
    "    elif(r==7):\n",
    "        print(\"seven\");\n",
    "    elif(r==8):\n",
    "        print(\"eight\");\n",
    "    elif(r==9):\n",
    "        print(\"nine\")\n",
    "    x=x//10;"
   ]
  },
  {
   "cell_type": "markdown",
   "metadata": {},
   "source": [
    "### how many times a digit is repeated"
   ]
  },
  {
   "cell_type": "code",
   "execution_count": 45,
   "metadata": {},
   "outputs": [
    {
     "name": "stdout",
     "output_type": "stream",
     "text": [
      "Enter lower limit145\n",
      "Enter upper limit165\n",
      "Enter the no ->5\n",
      "13\n"
     ]
    }
   ],
   "source": [
    "x=int(input(\"Enter lower limit\"));\n",
    "y=int(input(\"Enter upper limit\"));\n",
    "z=int(input(\"Enter the no ->\"));\n",
    "c=0;\n",
    "while(x<=y):\n",
    "    j=x\n",
    "    while(j!=0):\n",
    "        r=j%10;\n",
    "        if(r==z):\n",
    "            c=c+1;\n",
    "        j=j//10;\n",
    "        \n",
    "    x=x+1;\n",
    "    \n",
    "print(c);"
   ]
  },
  {
   "cell_type": "code",
   "execution_count": null,
   "metadata": {
    "collapsed": true
   },
   "outputs": [],
   "source": []
  },
  {
   "cell_type": "code",
   "execution_count": null,
   "metadata": {
    "collapsed": true
   },
   "outputs": [],
   "source": []
  }
 ],
 "metadata": {
  "kernelspec": {
   "display_name": "Python 3",
   "language": "python",
   "name": "python3"
  },
  "language_info": {
   "codemirror_mode": {
    "name": "ipython",
    "version": 3
   },
   "file_extension": ".py",
   "mimetype": "text/x-python",
   "name": "python",
   "nbconvert_exporter": "python",
   "pygments_lexer": "ipython3",
   "version": "3.6.3"
  }
 },
 "nbformat": 4,
 "nbformat_minor": 2
}
