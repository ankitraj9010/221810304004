{
 "cells": [
  {
   "cell_type": "markdown",
   "metadata": {
    "collapsed": true
   },
   "source": [
    "### Fun. prog to print the n natural nos."
   ]
  },
  {
   "cell_type": "code",
   "execution_count": 3,
   "metadata": {},
   "outputs": [
    {
     "name": "stdout",
     "output_type": "stream",
     "text": [
      "1 2 3 4 5 6 7 8 9 \n",
      "1 2 3 4 5 6 7 8 9 10 11 12 13 14 15 \n"
     ]
    }
   ],
   "source": [
    "def printnNaturalNos(n):\n",
    "    c=1;\n",
    "    while(c<=n):\n",
    "     print(c,end=\" \");\n",
    "     c=c+1;\n",
    "    print()\n",
    "    return\n",
    "printnNaturalNos(9);\n",
    "printnNaturalNos(15);"
   ]
  },
  {
   "cell_type": "markdown",
   "metadata": {},
   "source": [
    "### Find the factorial of no"
   ]
  },
  {
   "cell_type": "code",
   "execution_count": 4,
   "metadata": {},
   "outputs": [
    {
     "name": "stdout",
     "output_type": "stream",
     "text": [
      "120\n",
      "40320\n",
      "24\n"
     ]
    }
   ],
   "source": [
    "def findFact(n):\n",
    "    fact=1;\n",
    "    while(n!=0):\n",
    "        fact=fact*n;\n",
    "        n=n-1;\n",
    "    return fact;\n",
    "\n",
    "print(findFact(5));\n",
    "print(findFact(8));\n",
    "print(findFact(4));"
   ]
  },
  {
   "cell_type": "markdown",
   "metadata": {},
   "source": [
    "### No of palindromes b/w 2 nos\n"
   ]
  },
  {
   "cell_type": "code",
   "execution_count": null,
   "metadata": {},
   "outputs": [],
   "source": [
    "def countofPalindromes(n,m):\n",
    "    c=0;\n",
    "    r=0;\n",
    "    s=0;\n",
    "    while(n!=m):\n",
    "        t=n;\n",
    "        t1=n;\n",
    "        while(n!=0):\n",
    "            r=t%10\n",
    "            s=s*10+r\n",
    "            t=t//10\n",
    "        if(s==t1):\n",
    "            c=c+1\n",
    "        n=n+1\n",
    "    return c;\n",
    "print(countofPalindromes(10,30));\n",
    "    \n"
   ]
  },
  {
   "cell_type": "code",
   "execution_count": 5,
   "metadata": {},
   "outputs": [
    {
     "name": "stdout",
     "output_type": "stream",
     "text": [
      "29\n"
     ]
    }
   ],
   "source": [
    "def pallindrome(n,m):\n",
    "    c=0\n",
    "    r=0\n",
    "    s=0\n",
    "    while(n!=m):\n",
    "        t=n;\n",
    "        t1=n;\n",
    "        s=0\n",
    "        while(t!=0):\n",
    "            r=t%10\n",
    "            s=s*10+r\n",
    "            t=t//10\n",
    "        if(s==t1):\n",
    "            c=c+1\n",
    "        n=n+1\n",
    "    return c\n",
    "print(pallindrome(10,300))\n"
   ]
  },
  {
   "cell_type": "code",
   "execution_count": null,
   "metadata": {
    "collapsed": true
   },
   "outputs": [],
   "source": []
  }
 ],
 "metadata": {
  "kernelspec": {
   "display_name": "Python 3",
   "language": "python",
   "name": "python3"
  }
 },
 "nbformat": 4,
 "nbformat_minor": 2
}
