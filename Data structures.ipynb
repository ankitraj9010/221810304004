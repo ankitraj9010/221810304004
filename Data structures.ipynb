{
 "cells": [
  {
   "cell_type": "markdown",
   "metadata": {},
   "source": [
    "# DATA STRUCTURES"
   ]
  },
  {
   "cell_type": "markdown",
   "metadata": {},
   "source": [
    "# Searching "
   ]
  },
  {
   "cell_type": "markdown",
   "metadata": {},
   "source": [
    "### Linear search\n"
   ]
  },
  {
   "cell_type": "code",
   "execution_count": 6,
   "metadata": {},
   "outputs": [
    {
     "name": "stdout",
     "output_type": "stream",
     "text": [
      "Target item is found\n"
     ]
    }
   ],
   "source": [
    "def linearSearch(a,tarItem):\n",
    "    flag=0\n",
    "    for i in range(len(a)):\n",
    "        if a[i]==tarItem:\n",
    "            flag=1;\n",
    "            break\n",
    "    if(flag!=0):\n",
    "        print(\"Target item is found\")\n",
    "    else:\n",
    "        print(\"Target item is not found\")\n",
    "\n",
    "a=[36,65,7,86,24,14,59]\n",
    "linearSearch(a,65)"
   ]
  },
  {
   "cell_type": "code",
   "execution_count": 8,
   "metadata": {},
   "outputs": [
    {
     "name": "stdout",
     "output_type": "stream",
     "text": [
      "3\n"
     ]
    }
   ],
   "source": [
    "def linearSearchDuplicate(a,tarItem):\n",
    "    flag=0\n",
    "    for i in range(len(a)):\n",
    "        if a[i]==tarItem:\n",
    "            flag=flag+1;\n",
    "            \n",
    "    print(flag)\n",
    "        \n",
    "a=[36,65,7,86,24,14,23,36,65,79,65,59]\n",
    "linearSearchDuplicate(a,65)"
   ]
  },
  {
   "cell_type": "markdown",
   "metadata": {},
   "source": [
    "#### Indexes of the targeted item"
   ]
  },
  {
   "cell_type": "code",
   "execution_count": 10,
   "metadata": {},
   "outputs": [
    {
     "name": "stdout",
     "output_type": "stream",
     "text": [
      "1 4 7 "
     ]
    }
   ],
   "source": [
    "def linearIndex(a,t):\n",
    "    for i in range(len(a)):\n",
    "        if a[i]==t:\n",
    "            print(i,end=\" \")\n",
    "a=[1,5,9,6,5,15,12,5]\n",
    "linearIndex(a,5)"
   ]
  },
  {
   "cell_type": "code",
   "execution_count": 4,
   "metadata": {},
   "outputs": [
    {
     "name": "stdout",
     "output_type": "stream",
     "text": [
      "    !!!!!  !!!!!!!    !!!!!!!!!!!   !!!!!!!!!!!!!! "
     ]
    }
   ],
   "source": [
    "def linearindex(a,t):\n",
    "    for i in range(len(a)):\n",
    "        if(a[i]==t):\n",
    "            j=0\n",
    "            while(j<=i):\n",
    "                print(\"!\",end=\"\");\n",
    "                j=j+1\n",
    "        print(end=\" \");\n",
    "        \n",
    "a=[1,4,3,6,2,7,2,9,8,4,2,8,6,2]\n",
    "linearindex(a,2)          "
   ]
  },
  {
   "cell_type": "code",
   "execution_count": 25,
   "metadata": {},
   "outputs": [
    {
     "name": "stdout",
     "output_type": "stream",
     "text": [
      "15 30 45 75 \n",
      "165\n"
     ]
    }
   ],
   "source": [
    "def perfect(a):\n",
    "    sum=0\n",
    "    for i in range(len(a)):\n",
    "        if(a[i]%15==0):\n",
    "            print(a[i],end=\" \")\n",
    "            sum=sum+a[i]\n",
    "    print()\n",
    "    print(sum)\n",
    "        \n",
    "a=[15,30,45,12,376,76,75]\n",
    "perfect(a)"
   ]
  },
  {
   "cell_type": "code",
   "execution_count": 34,
   "metadata": {},
   "outputs": [
    {
     "name": "stdout",
     "output_type": "stream",
     "text": [
      "1 3 8 15 5 "
     ]
    }
   ],
   "source": [
    "def linearformattedoutput(a):\n",
    "    for i in range(len(a)):\n",
    "        if (i==0 or i==(len(a)-1)):\n",
    "            print(a[i],end=\" \")\n",
    "        else:\n",
    "            print(a[i-1]*a[i+1],end=\" \")\n",
    "            \n",
    "a=[1,2,3,4,5]\n",
    "linearformattedoutput(a)\n",
    "    "
   ]
  },
  {
   "cell_type": "code",
   "execution_count": null,
   "metadata": {
    "collapsed": true
   },
   "outputs": [],
   "source": []
  },
  {
   "cell_type": "code",
   "execution_count": 42,
   "metadata": {},
   "outputs": [
    {
     "name": "stdout",
     "output_type": "stream",
     "text": [
      "1 9 19 22 "
     ]
    }
   ],
   "source": [
    "def linearformattedoutput(a):\n",
    "    for i in range(len(a)):\n",
    "        if (i==0 or i==(len(a)-1)):\n",
    "            print(a[i],end=\" \")\n",
    "        elif(a[i-1]%2==0 and a[i+1]%2==0):\n",
    "            print(a[i],end=\" \")\n",
    "a=[1,6,9,4,16,19,22]\n",
    "linearformattedoutput(a)"
   ]
  },
  {
   "cell_type": "markdown",
   "metadata": {},
   "source": [
    "###  *Number to list* (imp)"
   ]
  },
  {
   "cell_type": "code",
   "execution_count": 43,
   "metadata": {},
   "outputs": [
    {
     "name": "stdout",
     "output_type": "stream",
     "text": [
      "Enter a no-> 45698\n",
      "[4, 5, 6, 9, 8]\n"
     ]
    }
   ],
   "source": [
    "def notolist(n):\n",
    "    l=[]\n",
    "    while n!=0:\n",
    "        r=n%10\n",
    "        l.append(r)\n",
    "        n=n//10\n",
    "    l.reverse()\n",
    "    print(l)\n",
    "    \n",
    "\n",
    "    \n",
    "n=int(input(\"Enter a no-> \"))    \n",
    "notolist(n)"
   ]
  },
  {
   "cell_type": "code",
   "execution_count": 47,
   "metadata": {},
   "outputs": [
    {
     "name": "stdout",
     "output_type": "stream",
     "text": [
      "[4, 6, 2, 8, 4, 6]\n"
     ]
    }
   ],
   "source": [
    "def notolist(n):\n",
    "    l=[]\n",
    "    while n!=0:\n",
    "        r=n%10\n",
    "        if(r%2==0):\n",
    "            l.append(r)\n",
    "        n=n//10\n",
    "    l.reverse()\n",
    "    print(l)\n",
    "notolist(45628746)"
   ]
  },
  {
   "cell_type": "markdown",
   "metadata": {},
   "source": [
    "## List to no\n"
   ]
  },
  {
   "cell_type": "code",
   "execution_count": 50,
   "metadata": {},
   "outputs": [
    {
     "name": "stdout",
     "output_type": "stream",
     "text": [
      "457625\n"
     ]
    }
   ],
   "source": [
    "def cond(a):\n",
    "    b=0\n",
    "    i=0\n",
    "    sum=0\n",
    "    while(i<len(a)):\n",
    "        sum=sum*10+a[i]\n",
    "        i=i+1\n",
    "    print(sum)\n",
    "    \n",
    "a=[4,5,7,6,2,5]\n",
    "cond(a)"
   ]
  },
  {
   "cell_type": "markdown",
   "metadata": {},
   "source": [
    "#### Sum of the list of nos"
   ]
  },
  {
   "cell_type": "code",
   "execution_count": 51,
   "metadata": {},
   "outputs": [
    {
     "name": "stdout",
     "output_type": "stream",
     "text": [
      "29\n"
     ]
    }
   ],
   "source": [
    "def cond(a):\n",
    "    b=0\n",
    "    i=0\n",
    "    sum=0\n",
    "    while(i<len(a)):\n",
    "        sum=sum+a[i]\n",
    "        i=i+1\n",
    "    print(sum)\n",
    "    \n",
    "a=[4,5,7,6,2,5]\n",
    "cond(a)"
   ]
  },
  {
   "cell_type": "code",
   "execution_count": 52,
   "metadata": {},
   "outputs": [
    {
     "data": {
      "text/plain": [
       "75"
      ]
     },
     "execution_count": 52,
     "metadata": {},
     "output_type": "execute_result"
    }
   ],
   "source": [
    "a=[4,5,4,8,5,2,47]\n",
    "sum(a)"
   ]
  },
  {
   "cell_type": "code",
   "execution_count": 1,
   "metadata": {},
   "outputs": [
    {
     "name": "stdout",
     "output_type": "stream",
     "text": [
      "[1, 4, 36, 64, 16, 3]\n"
     ]
    }
   ],
   "source": [
    "def cond(a):\n",
    "    b=[]\n",
    "    for i in range(len(a)):\n",
    "        if(a[i]%2==0):\n",
    "            a[i]=a[i]**2\n",
    "            b.append(a[i])\n",
    "        else:\n",
    "            b.append(a[i])\n",
    "    print(b)\n",
    "a=[1,2,6,8,4,3]\n",
    "cond(a)"
   ]
  },
  {
   "cell_type": "code",
   "execution_count": 3,
   "metadata": {},
   "outputs": [
    {
     "name": "stdout",
     "output_type": "stream",
     "text": [
      "[4, 9, 14, 11, 4]\n"
     ]
    }
   ],
   "source": [
    "def cond(a):\n",
    "    l1=[]\n",
    "    for i in range(len(a)):\n",
    "        if(i==0)or(i==(len(a)-1)):\n",
    "            l1.append(a[i])\n",
    "        else:\n",
    "            l1.append(a[i]+a[i-1])\n",
    "    print(l1)\n",
    "a=[4,5,9,2,4]\n",
    "cond(a)"
   ]
  },
  {
   "cell_type": "code",
   "execution_count": null,
   "metadata": {
    "collapsed": true
   },
   "outputs": [],
   "source": []
  }
 ],
 "metadata": {
  "kernelspec": {
   "display_name": "Python 3",
   "language": "python",
   "name": "python3"
  }
 },
 "nbformat": 4,
 "nbformat_minor": 2
}
